{
 "cells": [
  {
   "cell_type": "code",
   "execution_count": 1,
   "id": "936f8ad3-b2f9-44df-83b8-00b83c4de5fc",
   "metadata": {},
   "outputs": [],
   "source": [
    "import pandas as pd"
   ]
  },
  {
   "cell_type": "code",
   "execution_count": 2,
   "id": "9f3bb4c2-6087-40cd-86dd-acb5b8ae965f",
   "metadata": {},
   "outputs": [],
   "source": [
    "import requests"
   ]
  },
  {
   "cell_type": "code",
   "execution_count": 3,
   "id": "c98df4ac-9e03-45d6-b4c9-2dd29bd98246",
   "metadata": {},
   "outputs": [],
   "source": [
    "pd.set_option('display.max_columns', None) #see columns in a wide dataframe"
   ]
  },
  {
   "cell_type": "code",
   "execution_count": 4,
   "id": "84e25f9c-30d3-4f0d-9fdf-e12b68555596",
   "metadata": {},
   "outputs": [],
   "source": [
    "import time"
   ]
  },
  {
   "cell_type": "code",
   "execution_count": 5,
   "id": "74c3cad3-e48e-4b86-861a-b5f37536b89e",
   "metadata": {},
   "outputs": [],
   "source": [
    "import numpy as np"
   ]
  },
  {
   "cell_type": "code",
   "execution_count": 6,
   "id": "64d5dc31-0b05-4870-ac7e-d4fe93633ce2",
   "metadata": {},
   "outputs": [],
   "source": [
    "import plotly.express as px\n",
    "import plotly.graph_objects as go"
   ]
  },
  {
   "cell_type": "code",
   "execution_count": 7,
   "id": "14bca28b-445a-4bee-8b25-5995c72a1e31",
   "metadata": {},
   "outputs": [],
   "source": [
    "#Scraping player stats of the last 10 years from the NBA website"
   ]
  },
  {
   "cell_type": "code",
   "execution_count": 8,
   "id": "9aeff568-b424-470c-8ded-be32e139a641",
   "metadata": {},
   "outputs": [],
   "source": [
    "stats_url = 'https://stats.nba.com/stats/leagueLeaders?LeagueID=00&PerMode=Totals&Scope=S&Season=2013-14&SeasonType=Regular%20Season&StatCategory=PTS'"
   ]
  },
  {
   "cell_type": "code",
   "execution_count": 9,
   "id": "d8363b2e-8b9f-4b78-8ec5-6ce60d99694c",
   "metadata": {},
   "outputs": [],
   "source": [
    "data = requests.get(url = stats_url).json()"
   ]
  },
  {
   "cell_type": "code",
   "execution_count": 10,
   "id": "99f4125a-3dcb-4137-b715-3fdf2ceae26f",
   "metadata": {},
   "outputs": [],
   "source": [
    "table_headers = data['resultSet']['headers']"
   ]
  },
  {
   "cell_type": "code",
   "execution_count": 11,
   "id": "f169cb98-1e44-4c49-8cc4-d4804c2f25fc",
   "metadata": {},
   "outputs": [],
   "source": [
    "df_columns = ['Year', 'Season_type'] + table_headers"
   ]
  },
  {
   "cell_type": "code",
   "execution_count": 12,
   "id": "685377de-c15c-43c7-a805-70f99fbed78a",
   "metadata": {},
   "outputs": [
    {
     "name": "stderr",
     "output_type": "stream",
     "text": [
      "/var/folders/b9/9mnjfnkj7h5gsx4c3l517x380000gn/T/ipykernel_85001/3823073645.py:19: FutureWarning: The behavior of DataFrame concatenation with empty or all-NA entries is deprecated. In a future version, this will no longer exclude empty or all-NA columns when determining the result dtypes. To retain the old behavior, exclude the relevant entries before the concat operation.\n",
      "  df = pd.concat([df, temp_df3], axis = 0)\n"
     ]
    },
    {
     "name": "stdout",
     "output_type": "stream",
     "text": [
      "Finished scraping data for the 2013-14 Regular%20Season.\n",
      "... waiting 25.9 seconds\n",
      "Finished scraping data for the 2013-14 Playoffs.\n",
      "... waiting 21.7 seconds\n",
      "Finished scraping data for the 2014-15 Regular%20Season.\n",
      "... waiting 19.6 seconds\n",
      "Finished scraping data for the 2014-15 Playoffs.\n",
      "... waiting 13.3 seconds\n",
      "Finished scraping data for the 2015-16 Regular%20Season.\n",
      "... waiting 23.0 seconds\n",
      "Finished scraping data for the 2015-16 Playoffs.\n",
      "... waiting 24.0 seconds\n",
      "Finished scraping data for the 2016-17 Regular%20Season.\n",
      "... waiting 22.9 seconds\n",
      "Finished scraping data for the 2016-17 Playoffs.\n",
      "... waiting 14.0 seconds\n",
      "Finished scraping data for the 2017-18 Regular%20Season.\n",
      "... waiting 28.8 seconds\n",
      "Finished scraping data for the 2017-18 Playoffs.\n",
      "... waiting 27.1 seconds\n",
      "Finished scraping data for the 2018-19 Regular%20Season.\n",
      "... waiting 13.1 seconds\n",
      "Finished scraping data for the 2018-19 Playoffs.\n",
      "... waiting 18.9 seconds\n",
      "Finished scraping data for the 2019-20 Regular%20Season.\n",
      "... waiting 26.8 seconds\n",
      "Finished scraping data for the 2019-20 Playoffs.\n",
      "... waiting 25.5 seconds\n",
      "Finished scraping data for the 2020-21 Regular%20Season.\n",
      "... waiting 17.7 seconds\n",
      "Finished scraping data for the 2020-21 Playoffs.\n",
      "... waiting 29.4 seconds\n",
      "Finished scraping data for the 2021-22 Regular%20Season.\n",
      "... waiting 8.5 seconds\n",
      "Finished scraping data for the 2021-22 Playoffs.\n",
      "... waiting 6.2 seconds\n",
      "Finished scraping data for the 2022-23 Regular%20Season.\n",
      "... waiting 17.2 seconds\n",
      "Finished scraping data for the 2022-23 Playoffs.\n",
      "... waiting 22.0 seconds\n",
      "Process Completed! Total runtime: 7.01\n"
     ]
    }
   ],
   "source": [
    "df = pd.DataFrame(columns = df_columns)\n",
    "season_types = ['Regular%20Season', 'Playoffs']\n",
    "years = ['2013-14','2014-15','2015-16','2016-17','2017-18','2018-19','2019-20','2020-21','2021-22','2022-23']\n",
    "begin_loop = time.time()\n",
    "# Looping through each combination of year and season\n",
    "for year in years:\n",
    "    for season in season_types:\n",
    "        api_url = 'https://stats.nba.com/stats/leagueLeaders?LeagueID=00&PerMode=Totals&Scope=S&Season='+year+'&SeasonType='+season+'&StatCategory=PTS'\n",
    "        data = requests.get(url=api_url).json()\n",
    "        temp_df1 = pd.DataFrame(data['resultSet']['rowSet'], columns = table_headers)\n",
    "        # Adding 'Year' and 'Season_type' columns and concatenating with main DataFrame\n",
    "        #temp_df2 = pd.DataFrame({'Year':['2013-14' for i in range(len(temp_df1))],\n",
    "        #                         'Season_type':['Regular%20Season' for i in range (len(temp_df1))]\n",
    "        #})\n",
    "        temp_df2 = pd.DataFrame({'Year': [year] * len(temp_df1),\n",
    "                                 'Season_type': [season] * len(temp_df1)\n",
    "                                })\n",
    "        temp_df3 = pd.concat([temp_df2,temp_df1], axis = 1)\n",
    "        df = pd.concat([df, temp_df3], axis = 0)\n",
    "        print(f'Finished scraping data for the {year} {season}.')\n",
    "        # Introducing a random delay to allow scraping from the website\n",
    "        lag = np.random.uniform(low=5, high=30)\n",
    "        print(f'... waiting {round(lag, 1)} seconds')\n",
    "        time.sleep(lag)\n",
    "print(f'Process Completed! Total runtime: {round((time.time() - begin_loop)/60,2)}')\n",
    "\n",
    "# Saving the DataFrame to a CSV file\n",
    "df.to_csv('nba_player_data.csv', index = False)"
   ]
  },
  {
   "cell_type": "code",
   "execution_count": 13,
   "id": "196d7b03-0a0b-4158-b0ef-6268b87ca0e6",
   "metadata": {},
   "outputs": [],
   "source": [
    "NBAdata = pd.read_csv('nba_player_data.csv')"
   ]
  },
  {
   "cell_type": "code",
   "execution_count": 14,
   "id": "3832ad46-4047-4651-aa42-5e8d094ce095",
   "metadata": {},
   "outputs": [],
   "source": [
    "#cleaning data"
   ]
  },
  {
   "cell_type": "code",
   "execution_count": 15,
   "id": "bfeb7035-b756-4474-9e67-d0a1f6174d42",
   "metadata": {},
   "outputs": [],
   "source": [
    "NBAdata.drop(columns = ['RANK','EFF'],inplace = True)"
   ]
  },
  {
   "cell_type": "code",
   "execution_count": 16,
   "id": "e82a20ec-7249-4c4f-8b53-47657541ffc6",
   "metadata": {},
   "outputs": [],
   "source": [
    "NBAdata['season_start_year'] = NBAdata['Year'].str[:4].astype(int)"
   ]
  },
  {
   "cell_type": "code",
   "execution_count": 17,
   "id": "e957f687-430d-4c6b-a565-db60ec609742",
   "metadata": {},
   "outputs": [],
   "source": [
    "NBAdata['Season_type'].replace('Regular%20Season','Regular Season', inplace = True)"
   ]
  },
  {
   "cell_type": "code",
   "execution_count": 18,
   "id": "17fbc894-4ef0-40b9-958d-c3ab23e7904e",
   "metadata": {},
   "outputs": [],
   "source": [
    "rs_df = NBAdata[NBAdata['Season_type'] == 'Regular Season']\n",
    "playoffs_df = NBAdata[NBAdata['Season_type'] == 'Playoffs']"
   ]
  },
  {
   "cell_type": "code",
   "execution_count": 19,
   "id": "e498d8d3-f686-4e65-b54d-9e8758ba307d",
   "metadata": {},
   "outputs": [],
   "source": [
    "total_columns = ['MIN','FGM','FGA','FG3M','FG3A','FTM','FTA','OREB',\n",
    "                 'DREB','REB','AST','STL','BLK','TOV', 'PF','PTS',]"
   ]
  },
  {
   "cell_type": "code",
   "execution_count": 20,
   "id": "866d842f-20cf-4ac8-a535-6ff3e64065fd",
   "metadata": {},
   "outputs": [],
   "source": [
    "#analyzing player stats correlations"
   ]
  },
  {
   "cell_type": "code",
   "execution_count": 21,
   "id": "ef87072e-0f89-4d23-acb9-d059682af019",
   "metadata": {},
   "outputs": [],
   "source": [
    "#analyzing data per minute played\n",
    "data_per_min = NBAdata.groupby(['PLAYER','PLAYER_ID','Year'])[total_columns].sum().reset_index()\n",
    "for col in data_per_min.columns[4:]:\n",
    "    data_per_min[col] = data_per_min[col]/data_per_min['MIN']\n",
    "\n",
    "#calculating ratios\n",
    "data_per_min['FG%'] = data_per_min['FGM']/data_per_min['FGA']\n",
    "data_per_min['3PT%'] = data_per_min['FG3M']/data_per_min['FG3A']\n",
    "data_per_min['FT%'] = data_per_min['FTM']/data_per_min['FTA']\n",
    "data_per_min['FG3A%'] = data_per_min['FG3A']/data_per_min['FGA']\n",
    "data_per_min['PTS/FGA'] = data_per_min['PTS']/data_per_min['FGA']\n",
    "data_per_min ['FG3M/FGM'] = data_per_min['FG3M']/data_per_min ['FGM' ]\n",
    "data_per_min['FTA/FGA'] = data_per_min['FTA']/data_per_min['FGA']\n",
    "data_per_min['TRU%'] = 0.5*data_per_min['PTS']/ (data_per_min['FGA']+0.475*data_per_min['FTA'])\n",
    "data_per_min['AST_TOV'] = data_per_min['AST']/data_per_min['TOV']\n",
    "\n",
    "#filtering out players who barley played and have a too small sample size\n",
    "data_per_min = data_per_min[data_per_min['MIN']>=25]\n",
    "\n",
    "data_per_min.drop(columns = 'PLAYER_ID', inplace=True)\n",
    "data_per_min.drop(columns = 'Year', inplace=True)\n",
    "data_per_min.drop(columns = 'PLAYER', inplace=True)\n",
    "\n",
    "# Creating a heatmap of the correlation matrix\n",
    "fig = px.imshow(data_per_min.corr())\n",
    "fig.show(renderer='browser')"
   ]
  },
  {
   "cell_type": "code",
   "execution_count": 22,
   "id": "695e5764-ec23-4776-b97b-337d17fddf82",
   "metadata": {},
   "outputs": [],
   "source": [
    "#analyzing the distribution of minutes played in the regular season vs the playoffs"
   ]
  },
  {
   "cell_type": "code",
   "execution_count": 23,
   "id": "ba92e39b-996d-4d35-bcdb-538ef814c3cb",
   "metadata": {},
   "outputs": [],
   "source": [
    "#Creating a Plotly figure with overlaid histograms for 'Regular Season' and 'Playoffs' MIN/GP ratios,\n",
    "fig = go.Figure()\n",
    "fig.add_trace(go.Histogram(x=rs_df['MIN']/rs_df['GP'], histnorm = 'percent', name = 'Regular Season',\n",
    "                          xbins = {'start':0,'end':46,'size':1}))\n",
    "fig.add_trace(go.Histogram(x=playoffs_df['MIN']/playoffs_df['GP'], histnorm = 'percent', name = 'Playoffs',\n",
    "                           xbins = {'start':0,'end':46,'size':1}))\n",
    "fig.update_layout(barmode='overlay')\n",
    "fig.update_traces(opacity = 0.5)\n",
    "fig.show(renderer='browser')"
   ]
  },
  {
   "cell_type": "code",
   "execution_count": 24,
   "id": "441a4fb2-8649-48f4-b3aa-8bd92d686076",
   "metadata": {},
   "outputs": [],
   "source": [
    "#analyzing how the game changed over the past 10 years"
   ]
  },
  {
   "cell_type": "code",
   "execution_count": 25,
   "id": "e568abcd-eea7-4e8f-afed-7872b61fc401",
   "metadata": {},
   "outputs": [],
   "source": [
    "change_df = NBAdata.groupby('season_start_year')[total_columns].sum().reset_index()\n",
    "\n",
    "#Estimating possessions and reordering the columns to make it more clear\n",
    "change_df['POSS_est'] = change_df['FGA'] - change_df['OREB']+change_df['TOV']+0.44*change_df['FTA']\n",
    "change_df = change_df[list(change_df.columns[0:2])+['POSS_est']+list(change_df.columns[2:-1])]\n",
    "\n",
    "#Calculating ratios\n",
    "change_df['FG%'] = change_df['FGM']/change_df['FGA']\n",
    "change_df['3PT%'] = change_df['FG3M']/change_df['FG3A']\n",
    "change_df['FT%'] = change_df['FTM']/change_df['FTA']\n",
    "change_df['FG3A%'] = change_df['FG3A']/change_df['FGA']\n",
    "change_df['PTS/FGA'] = change_df['PTS']/change_df['FGA']\n",
    "change_df['FG3M/FGM'] = change_df['FG3M']/change_df['FGM']\n",
    "change_df['FTA/FGA'] = change_df['FTA']/change_df['FGA']\n",
    "change_df['TRU%'] = 0.5*change_df['PTS']/ (change_df['FGA']+0.475*change_df['FTA'])\n",
    "change_df['AST_TOV'] = change_df['AST']/change_df['TOV']"
   ]
  },
  {
   "cell_type": "code",
   "execution_count": 26,
   "id": "2ab45a29-d083-457a-bc98-d0e3af22bc37",
   "metadata": {},
   "outputs": [],
   "source": [
    "change_per48_df = change_df.copy()\n",
    "\n",
    "# Scaling statistics to a per-48-minute basis\n",
    "for col in change_per48_df.columns[2:18]:\n",
    "    change_per48_df[col] = change_per48_df[col]/change_per48_df['MIN'] *48*5 #average stats per minute per player\n",
    "\n",
    "change_per48_df.drop(columns = 'MIN', inplace = True)\n",
    "\n",
    "# Creating a Plotly figure to visualize changes over the years for various statistics\n",
    "fig = go.Figure()\n",
    "for col in change_per48_df.columns[1:]:\n",
    "    fig.add_trace(go.Scatter(x=change_per48_df['season_start_year'],\n",
    "                            y=change_per48_df[col], name = col))\n",
    "fig.show(renderer='browser')"
   ]
  }
 ],
 "metadata": {
  "kernelspec": {
   "display_name": "Python 3 (ipykernel)",
   "language": "python",
   "name": "python3"
  },
  "language_info": {
   "codemirror_mode": {
    "name": "ipython",
    "version": 3
   },
   "file_extension": ".py",
   "mimetype": "text/x-python",
   "name": "python",
   "nbconvert_exporter": "python",
   "pygments_lexer": "ipython3",
   "version": "3.12.0"
  }
 },
 "nbformat": 4,
 "nbformat_minor": 5
}
